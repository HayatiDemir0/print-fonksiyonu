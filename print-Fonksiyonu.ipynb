{
 "cells": [
  {
   "cell_type": "code",
   "execution_count": 1,
   "id": "6bde469c-d1c0-4ef3-9a70-7bcc9a5e7356",
   "metadata": {},
   "outputs": [
    {
     "name": "stdout",
     "output_type": "stream",
     "text": [
      "Merhaba Dünya\n"
     ]
    }
   ],
   "source": [
    "print(\"Merhaba Dünya\")"
   ]
  },
  {
   "cell_type": "code",
   "execution_count": 3,
   "id": "4cc928c9-9435-489e-87c4-9653395ca884",
   "metadata": {},
   "outputs": [
    {
     "name": "stdout",
     "output_type": "stream",
     "text": [
      "Hoş Geldiniz\n"
     ]
    }
   ],
   "source": [
    "print(\"Hoş\" + \" \" + \"Geldiniz\")"
   ]
  },
  {
   "cell_type": "code",
   "execution_count": 2,
   "id": "e2e05dfb-84f0-415a-8069-02426614679b",
   "metadata": {},
   "outputs": [
    {
     "name": "stdout",
     "output_type": "stream",
     "text": [
      "15\n",
      "5\n",
      "2\n",
      "2.0\n",
      "100000\n",
      "50\n"
     ]
    }
   ],
   "source": [
    "x = 10\n",
    "print(x + 5)\n",
    "print(x - 5)\n",
    "print(x // 5)\n",
    "print(x / 5)\n",
    "print(x ** 5)\n",
    "print(x * 5)"
   ]
  },
  {
   "cell_type": "code",
   "execution_count": null,
   "id": "2ce116ad-3bd5-41e8-b26d-17838da1e7a8",
   "metadata": {},
   "outputs": [],
   "source": []
  }
 ],
 "metadata": {
  "kernelspec": {
   "display_name": "Python [conda env:base] *",
   "language": "python",
   "name": "conda-base-py"
  },
  "language_info": {
   "codemirror_mode": {
    "name": "ipython",
    "version": 3
   },
   "file_extension": ".py",
   "mimetype": "text/x-python",
   "name": "python",
   "nbconvert_exporter": "python",
   "pygments_lexer": "ipython3",
   "version": "3.12.7"
  }
 },
 "nbformat": 4,
 "nbformat_minor": 5
}
